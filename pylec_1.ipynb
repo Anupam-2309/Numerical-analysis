{
  "cells": [
    {
      "cell_type": "markdown",
      "metadata": {
        "id": "view-in-github",
        "colab_type": "text"
      },
      "source": [
        "<a href=\"https://colab.research.google.com/github/Anupam-2309/Numerical-analysis/blob/main/pylec_1.ipynb\" target=\"_parent\"><img src=\"https://colab.research.google.com/assets/colab-badge.svg\" alt=\"Open In Colab\"/></a>"
      ]
    },
    {
      "cell_type": "markdown",
      "source": [
        "$$Name\\;:\\;Anupam\\;Maurya$$\n",
        "$$Roll\\,no.\\;:\\;23MAT205$$\n",
        "$$Lecture\\;-1$$"
      ],
      "metadata": {
        "id": "3hOQLHQHAjz0"
      },
      "id": "3hOQLHQHAjz0"
    },
    {
      "cell_type": "markdown",
      "id": "b4914550",
      "metadata": {
        "id": "b4914550"
      },
      "source": [
        "$$06\\,September\\,2023$$\n",
        "$$Wednesday$$\n",
        "\n",
        "# Introduction OF Python"
      ]
    },
    {
      "cell_type": "markdown",
      "id": "7c143fd8",
      "metadata": {
        "id": "7c143fd8"
      },
      "source": [
        "# Pyhton as an Advanced Calculator"
      ]
    },
    {
      "cell_type": "code",
      "execution_count": null,
      "id": "cd9c0546",
      "metadata": {
        "colab": {
          "base_uri": "https://localhost:8080/"
        },
        "id": "cd9c0546",
        "outputId": "acf344bc-6549-4e75-9e92-cce519168094"
      },
      "outputs": [
        {
          "output_type": "stream",
          "name": "stdout",
          "text": [
            "Hello Anupam\n"
          ]
        }
      ],
      "source": [
        "print(\"Hello Anupam\")\n"
      ]
    },
    {
      "cell_type": "code",
      "execution_count": null,
      "id": "05c01556",
      "metadata": {
        "colab": {
          "base_uri": "https://localhost:8080/"
        },
        "id": "05c01556",
        "outputId": "5c953dcb-bdd6-44af-ae4a-178be66e1ef7"
      },
      "outputs": [
        {
          "output_type": "execute_result",
          "data": {
            "text/plain": [
              "30"
            ]
          },
          "metadata": {},
          "execution_count": 178
        }
      ],
      "source": [
        "25+5"
      ]
    },
    {
      "cell_type": "code",
      "execution_count": null,
      "id": "6916de94",
      "metadata": {
        "colab": {
          "base_uri": "https://localhost:8080/"
        },
        "id": "6916de94",
        "outputId": "80f8c9fd-9fdf-4baf-c45f-4127950b3404"
      },
      "outputs": [
        {
          "output_type": "execute_result",
          "data": {
            "text/plain": [
              "354108"
            ]
          },
          "metadata": {},
          "execution_count": 179
        }
      ],
      "source": [
        "354654-546\n"
      ]
    },
    {
      "cell_type": "code",
      "execution_count": null,
      "id": "84d78fc2",
      "metadata": {
        "colab": {
          "base_uri": "https://localhost:8080/"
        },
        "id": "84d78fc2",
        "outputId": "d23a10e6-8133-44e2-a3cb-e85308efc4fb"
      },
      "outputs": [
        {
          "output_type": "execute_result",
          "data": {
            "text/plain": [
              "1.0"
            ]
          },
          "metadata": {},
          "execution_count": 180
        }
      ],
      "source": [
        "(22/7)*(7/22)\n"
      ]
    },
    {
      "cell_type": "code",
      "execution_count": null,
      "id": "95c7e869",
      "metadata": {
        "colab": {
          "base_uri": "https://localhost:8080/"
        },
        "id": "95c7e869",
        "outputId": "dd88667a-845d-484a-94f7-b348d7f2248e"
      },
      "outputs": [
        {
          "output_type": "execute_result",
          "data": {
            "text/plain": [
              "3.142857142857143"
            ]
          },
          "metadata": {},
          "execution_count": 181
        }
      ],
      "source": [
        "22/7"
      ]
    },
    {
      "cell_type": "code",
      "execution_count": null,
      "id": "2b4176af",
      "metadata": {
        "colab": {
          "base_uri": "https://localhost:8080/"
        },
        "id": "2b4176af",
        "outputId": "6b953282-9a9e-4a13-b10e-ebe5db9aaa5e"
      },
      "outputs": [
        {
          "output_type": "execute_result",
          "data": {
            "text/plain": [
              "334.0869565217391"
            ]
          },
          "metadata": {},
          "execution_count": 182
        }
      ],
      "source": [
        "7684/23 #return floating number"
      ]
    },
    {
      "cell_type": "code",
      "execution_count": null,
      "id": "b8e06af1",
      "metadata": {
        "colab": {
          "base_uri": "https://localhost:8080/"
        },
        "id": "b8e06af1",
        "outputId": "0e124d5a-bde1-47ac-ad38-587ccbf7f822"
      },
      "outputs": [
        {
          "output_type": "execute_result",
          "data": {
            "text/plain": [
              "334"
            ]
          },
          "metadata": {},
          "execution_count": 183
        }
      ],
      "source": [
        "7687//23 #returns quotient"
      ]
    },
    {
      "cell_type": "code",
      "execution_count": null,
      "id": "88c24b57",
      "metadata": {
        "colab": {
          "base_uri": "https://localhost:8080/"
        },
        "id": "88c24b57",
        "outputId": "89c64ec0-4360-4e42-eb5e-4b6cb65ac081"
      },
      "outputs": [
        {
          "output_type": "execute_result",
          "data": {
            "text/plain": [
              "5"
            ]
          },
          "metadata": {},
          "execution_count": 184
        }
      ],
      "source": [
        "7687%23 #returns remainder"
      ]
    },
    {
      "cell_type": "code",
      "execution_count": null,
      "id": "647c93a6",
      "metadata": {
        "colab": {
          "base_uri": "https://localhost:8080/"
        },
        "id": "647c93a6",
        "outputId": "e1596571-67a6-4fbf-eda3-075b6c50b93c"
      },
      "outputs": [
        {
          "output_type": "execute_result",
          "data": {
            "text/plain": [
              "25"
            ]
          },
          "metadata": {},
          "execution_count": 185
        }
      ],
      "source": [
        "5**2 #returns Power of the number"
      ]
    },
    {
      "cell_type": "code",
      "execution_count": null,
      "id": "e9df694d",
      "metadata": {
        "colab": {
          "base_uri": "https://localhost:8080/"
        },
        "id": "e9df694d",
        "outputId": "0b9adf42-c90f-49e6-e1b1-df5b1062b891"
      },
      "outputs": [
        {
          "output_type": "execute_result",
          "data": {
            "text/plain": [
              "369988485035126972924700782451696644186473100389722973815184405301748249"
            ]
          },
          "metadata": {},
          "execution_count": 186
        }
      ],
      "source": [
        "27**50"
      ]
    },
    {
      "cell_type": "code",
      "execution_count": null,
      "id": "994bb008",
      "metadata": {
        "colab": {
          "base_uri": "https://localhost:8080/"
        },
        "id": "994bb008",
        "outputId": "27137246-26d4-4f0b-ff95-407630a557b4"
      },
      "outputs": [
        {
          "output_type": "execute_result",
          "data": {
            "text/plain": [
              "48070880771127017833418400063860424893242447244924514895934503717501143296921795358699176265818477116722784375947578590606979154024171864166329574817483293881028710535973176979596219731991520830514694374771774636807890694422882343405923800484901643617730596619404600897026159986915501340493142975234272618070552045897911225971238672179839452802948951292415324993705491602964046899687216179315011278589147831368447276641586915959626203950458493082639154256082431390089707830063939127099439149976981589631028284734703098118977079002245835870735258166305134365786114813430895809196712363741859052802752740452546018161315848383393769720388551835786294645941781480734757813395139416102084849079404619569979968322432830001"
            ]
          },
          "metadata": {},
          "execution_count": 187
        }
      ],
      "source": [
        "27**500"
      ]
    },
    {
      "cell_type": "markdown",
      "id": "79a75b20",
      "metadata": {
        "id": "79a75b20"
      },
      "source": [
        "$$27^{500}$$"
      ]
    },
    {
      "cell_type": "code",
      "execution_count": null,
      "id": "2b19e68c",
      "metadata": {
        "id": "2b19e68c"
      },
      "outputs": [],
      "source": [
        "def sqrt(n):\n",
        "    print(n**(1/2))"
      ]
    },
    {
      "cell_type": "code",
      "execution_count": null,
      "id": "d01af764",
      "metadata": {
        "colab": {
          "base_uri": "https://localhost:8080/"
        },
        "id": "d01af764",
        "outputId": "bc41ae71-2e51-4e04-e5cb-97f4fc82d69b"
      },
      "outputs": [
        {
          "output_type": "stream",
          "name": "stdout",
          "text": [
            "5.0\n"
          ]
        }
      ],
      "source": [
        "sqrt(25)"
      ]
    },
    {
      "cell_type": "markdown",
      "id": "ebfcc8d6",
      "metadata": {
        "id": "ebfcc8d6"
      },
      "source": [
        "$$Math\\;Library$$"
      ]
    },
    {
      "cell_type": "code",
      "execution_count": null,
      "id": "1d60df5d",
      "metadata": {
        "id": "1d60df5d"
      },
      "outputs": [],
      "source": [
        "import math as m"
      ]
    },
    {
      "cell_type": "code",
      "execution_count": null,
      "id": "4555a500",
      "metadata": {
        "colab": {
          "base_uri": "https://localhost:8080/"
        },
        "id": "4555a500",
        "outputId": "e76a0ffc-76e5-447d-a083-bcabe3f2e3cc"
      },
      "outputs": [
        {
          "output_type": "execute_result",
          "data": {
            "text/plain": [
              "5.0"
            ]
          },
          "metadata": {},
          "execution_count": 191
        }
      ],
      "source": [
        "m.sqrt(25)"
      ]
    },
    {
      "cell_type": "code",
      "execution_count": null,
      "id": "dd84cf73",
      "metadata": {
        "id": "dd84cf73"
      },
      "outputs": [],
      "source": [
        "#help(math.log1p)"
      ]
    },
    {
      "cell_type": "code",
      "execution_count": null,
      "id": "fbd41f4c",
      "metadata": {
        "id": "fbd41f4c"
      },
      "outputs": [],
      "source": [
        "m.copysign?"
      ]
    },
    {
      "cell_type": "code",
      "execution_count": null,
      "id": "41449d71",
      "metadata": {
        "id": "41449d71"
      },
      "outputs": [],
      "source": [
        "m.degrees??"
      ]
    },
    {
      "cell_type": "code",
      "execution_count": null,
      "id": "a427572f",
      "metadata": {
        "colab": {
          "base_uri": "https://localhost:8080/"
        },
        "id": "a427572f",
        "outputId": "a926dc46-e54a-4f2e-dca9-71a31c2f5885"
      },
      "outputs": [
        {
          "output_type": "execute_result",
          "data": {
            "text/plain": [
              "30414093201713378043612608166064768844377641568960512000000000000"
            ]
          },
          "metadata": {},
          "execution_count": 195
        }
      ],
      "source": [
        "m.factorial(50)"
      ]
    },
    {
      "cell_type": "code",
      "execution_count": null,
      "id": "9e6f7320",
      "metadata": {
        "colab": {
          "base_uri": "https://localhost:8080/"
        },
        "id": "9e6f7320",
        "outputId": "f1cf5e54-0778-4014-879e-f8e779bfa46a"
      },
      "outputs": [
        {
          "output_type": "execute_result",
          "data": {
            "text/plain": [
              "65"
            ]
          },
          "metadata": {},
          "execution_count": 196
        }
      ],
      "source": [
        "aa =\"30414093201713378043612608166064768844377641568960512000000000000\"\n",
        "len(aa)"
      ]
    },
    {
      "cell_type": "code",
      "execution_count": null,
      "id": "3a781d29",
      "metadata": {
        "id": "3a781d29"
      },
      "outputs": [],
      "source": [
        "from math import sqrt,pi,gcd"
      ]
    },
    {
      "cell_type": "code",
      "execution_count": null,
      "id": "f222096c",
      "metadata": {
        "colab": {
          "base_uri": "https://localhost:8080/"
        },
        "id": "f222096c",
        "outputId": "c3f1c45d-5f66-41f1-e7c8-2d7f49becc95"
      },
      "outputs": [
        {
          "output_type": "execute_result",
          "data": {
            "text/plain": [
              "5"
            ]
          },
          "metadata": {},
          "execution_count": 198
        }
      ],
      "source": [
        "gcd(125,5)"
      ]
    },
    {
      "cell_type": "code",
      "execution_count": null,
      "id": "64bcf612",
      "metadata": {
        "id": "64bcf612"
      },
      "outputs": [],
      "source": [
        "from math import *"
      ]
    },
    {
      "cell_type": "code",
      "execution_count": null,
      "id": "e1bd68cc",
      "metadata": {
        "colab": {
          "base_uri": "https://localhost:8080/"
        },
        "id": "e1bd68cc",
        "outputId": "9611ebeb-c50f-48d8-ca1a-02bb8bd8f390"
      },
      "outputs": [
        {
          "output_type": "execute_result",
          "data": {
            "text/plain": [
              "8.0"
            ]
          },
          "metadata": {},
          "execution_count": 200
        }
      ],
      "source": [
        "sqrt(64)"
      ]
    },
    {
      "cell_type": "code",
      "execution_count": null,
      "id": "22a7f942",
      "metadata": {
        "colab": {
          "base_uri": "https://localhost:8080/"
        },
        "id": "22a7f942",
        "outputId": "90c6ea5d-2997-4ccb-c13f-89853f7b8873"
      },
      "outputs": [
        {
          "output_type": "execute_result",
          "data": {
            "text/plain": [
              "270.0"
            ]
          },
          "metadata": {},
          "execution_count": 201
        }
      ],
      "source": [
        "degrees(3*pi/2)"
      ]
    },
    {
      "cell_type": "markdown",
      "id": "2c2e7031",
      "metadata": {
        "id": "2c2e7031"
      },
      "source": [
        "$$Find\\;roots\\;of\\;a\\;quadratic\\;ax^2+bx+c$$"
      ]
    },
    {
      "cell_type": "code",
      "execution_count": null,
      "id": "0cceae69",
      "metadata": {
        "id": "0cceae69"
      },
      "outputs": [],
      "source": []
    },
    {
      "cell_type": "code",
      "execution_count": null,
      "id": "595fa91e",
      "metadata": {
        "id": "595fa91e"
      },
      "outputs": [],
      "source": [
        "a,b,c = 2,5,-7"
      ]
    },
    {
      "cell_type": "markdown",
      "id": "2f582364",
      "metadata": {
        "id": "2f582364"
      },
      "source": [
        "$$D=b^2-4ac$$"
      ]
    },
    {
      "cell_type": "code",
      "execution_count": null,
      "id": "fa7043af",
      "metadata": {
        "colab": {
          "base_uri": "https://localhost:8080/"
        },
        "id": "fa7043af",
        "outputId": "21f95a77-99c3-4687-91e4-59ef0497c627"
      },
      "outputs": [
        {
          "output_type": "stream",
          "name": "stdout",
          "text": [
            "81\n"
          ]
        }
      ],
      "source": [
        "D = b**2 - 4*a*c\n",
        "print(D)"
      ]
    },
    {
      "cell_type": "markdown",
      "id": "beeef10b",
      "metadata": {
        "id": "beeef10b"
      },
      "source": [
        "$$x1=\\frac{-b+\\sqrt(D)}{2a}$$\n",
        "$$x2=\\frac{-b-\\sqrt(D)}{2a}$$"
      ]
    },
    {
      "cell_type": "code",
      "execution_count": null,
      "id": "c30d87fd",
      "metadata": {
        "colab": {
          "base_uri": "https://localhost:8080/"
        },
        "id": "c30d87fd",
        "outputId": "8f22e91d-724d-4205-fd35-0b22e50b4b6b"
      },
      "outputs": [
        {
          "output_type": "stream",
          "name": "stdout",
          "text": [
            "The roots of the given equation is : 1.0 and -3.5\n"
          ]
        }
      ],
      "source": [
        "x1 = (-b+sqrt(D))/(2*a)\n",
        "x2 = (-b-sqrt(D))/(2*a)\n",
        "print(\"The roots of the given equation is :\",x1,\"and\",x2)"
      ]
    },
    {
      "cell_type": "markdown",
      "id": "93eceac5",
      "metadata": {
        "id": "93eceac5"
      },
      "source": [
        "$$Complex\\;Math\\;Library$$"
      ]
    },
    {
      "cell_type": "code",
      "execution_count": null,
      "id": "1fc5a975",
      "metadata": {
        "id": "1fc5a975"
      },
      "outputs": [],
      "source": [
        "import cmath as cm"
      ]
    },
    {
      "cell_type": "markdown",
      "id": "cee3625e",
      "metadata": {
        "id": "cee3625e"
      },
      "source": []
    },
    {
      "cell_type": "code",
      "execution_count": null,
      "id": "ca379a17",
      "metadata": {
        "id": "ca379a17"
      },
      "outputs": [],
      "source": []
    },
    {
      "cell_type": "code",
      "execution_count": null,
      "id": "2e303cd9",
      "metadata": {
        "colab": {
          "base_uri": "https://localhost:8080/"
        },
        "id": "2e303cd9",
        "outputId": "db665996-7c29-4aa7-d825-17bd335912f5"
      },
      "outputs": [
        {
          "output_type": "execute_result",
          "data": {
            "text/plain": [
              "2.6457513110645907j"
            ]
          },
          "metadata": {},
          "execution_count": 206
        }
      ],
      "source": [
        "cm.sqrt(-7)"
      ]
    },
    {
      "cell_type": "code",
      "execution_count": null,
      "id": "66faa145",
      "metadata": {
        "colab": {
          "base_uri": "https://localhost:8080/"
        },
        "id": "66faa145",
        "outputId": "a2a60a70-3bcf-4dfd-ac67-31b9124304a6"
      },
      "outputs": [
        {
          "output_type": "execute_result",
          "data": {
            "text/plain": [
              "(1.7989074399478673+1.1117859405028423j)"
            ]
          },
          "metadata": {},
          "execution_count": 207
        }
      ],
      "source": [
        "cm.sqrt(2+4j)"
      ]
    },
    {
      "cell_type": "code",
      "execution_count": null,
      "id": "23816587",
      "metadata": {
        "id": "23816587"
      },
      "outputs": [],
      "source": [
        "#help(cm.tau)"
      ]
    },
    {
      "cell_type": "code",
      "execution_count": null,
      "id": "113aa02f",
      "metadata": {
        "id": "113aa02f"
      },
      "outputs": [],
      "source": [
        "#cm.tau(\"6.283185307179586\")"
      ]
    },
    {
      "cell_type": "markdown",
      "id": "4d8e17ca",
      "metadata": {
        "id": "4d8e17ca"
      },
      "source": [
        "## Area of triangel whose sides are 6,9,10"
      ]
    },
    {
      "cell_type": "code",
      "execution_count": null,
      "id": "e6fcc232",
      "metadata": {
        "id": "e6fcc232"
      },
      "outputs": [],
      "source": [
        "a,b,c = 6,9,10"
      ]
    },
    {
      "cell_type": "code",
      "execution_count": null,
      "id": "011908ab",
      "metadata": {
        "id": "011908ab"
      },
      "outputs": [],
      "source": [
        "s = (a+b+c)/2"
      ]
    },
    {
      "cell_type": "code",
      "execution_count": null,
      "id": "3012ef72",
      "metadata": {
        "colab": {
          "base_uri": "https://localhost:8080/"
        },
        "id": "3012ef72",
        "outputId": "278c6cd1-3c4d-401c-ecf0-0c9bf98532e8"
      },
      "outputs": [
        {
          "output_type": "stream",
          "name": "stdout",
          "text": [
            "26.663411259626926\n"
          ]
        }
      ],
      "source": [
        "A = sqrt(s*(s-a)*(s-b)*(s-c))\n",
        "print(A)"
      ]
    },
    {
      "cell_type": "markdown",
      "id": "e7431cf9",
      "metadata": {
        "id": "e7431cf9"
      },
      "source": [
        "## Compound Intreste\n",
        "\n",
        "### P = 50000\n",
        "### r = 5\n",
        "### t = 5\n",
        "### n = 4\n",
        "### A = ?"
      ]
    },
    {
      "cell_type": "markdown",
      "id": "77acf06a",
      "metadata": {
        "id": "77acf06a"
      },
      "source": [
        "$$Amount = P*(1+\\frac{r}{n*100})^{nt}$$"
      ]
    },
    {
      "cell_type": "code",
      "execution_count": null,
      "id": "4ff6946b",
      "metadata": {
        "id": "4ff6946b"
      },
      "outputs": [],
      "source": [
        "P,r,t,n =50000,5,5,4"
      ]
    },
    {
      "cell_type": "code",
      "execution_count": null,
      "id": "dc75e199",
      "metadata": {
        "colab": {
          "base_uri": "https://localhost:8080/"
        },
        "id": "dc75e199",
        "outputId": "0ac5842f-0230-4432-c1bf-1979535a6390"
      },
      "outputs": [
        {
          "output_type": "stream",
          "name": "stdout",
          "text": [
            "64101.86158542922\n"
          ]
        }
      ],
      "source": [
        "A = P*(1+(r/(n*100)))**(n*t)\n",
        "print(A)"
      ]
    },
    {
      "cell_type": "markdown",
      "id": "bd99e4eb",
      "metadata": {
        "id": "bd99e4eb"
      },
      "source": [
        "### Input Function"
      ]
    },
    {
      "cell_type": "code",
      "execution_count": null,
      "id": "1b372d65",
      "metadata": {
        "colab": {
          "base_uri": "https://localhost:8080/"
        },
        "id": "1b372d65",
        "outputId": "1b2a2d64-1f06-4d9a-9b41-1131d0a979b4"
      },
      "outputs": [
        {
          "output_type": "stream",
          "name": "stdout",
          "text": [
            "You want to ADD two numbers\n",
            "Enter first number :56\n",
            "Enter Second number :32\n",
            "56+32 = 88\n"
          ]
        }
      ],
      "source": [
        "print(\"You want to ADD two numbers\")\n",
        "a = int(input(\"Enter first number :\"))\n",
        "b = int(input(\"Enter Second number :\"))\n",
        "\n",
        "print(f\"{a}+{b} =\",a+b)"
      ]
    },
    {
      "cell_type": "code",
      "execution_count": null,
      "id": "e8033d1b",
      "metadata": {
        "id": "e8033d1b"
      },
      "outputs": [],
      "source": [
        "z = 10-3j"
      ]
    },
    {
      "cell_type": "code",
      "execution_count": null,
      "id": "97e178e9",
      "metadata": {
        "colab": {
          "base_uri": "https://localhost:8080/"
        },
        "id": "97e178e9",
        "outputId": "29d62a93-293f-4c95-ef04-d134ac4032ab"
      },
      "outputs": [
        {
          "output_type": "execute_result",
          "data": {
            "text/plain": [
              "10.0"
            ]
          },
          "metadata": {},
          "execution_count": 217
        }
      ],
      "source": [
        "z.real"
      ]
    },
    {
      "cell_type": "code",
      "execution_count": null,
      "id": "fd584845",
      "metadata": {
        "colab": {
          "base_uri": "https://localhost:8080/"
        },
        "id": "fd584845",
        "outputId": "19af9ede-cc3b-4d4f-83c4-97f47bb1a2b7"
      },
      "outputs": [
        {
          "output_type": "execute_result",
          "data": {
            "text/plain": [
              "(10+3j)"
            ]
          },
          "metadata": {},
          "execution_count": 218
        }
      ],
      "source": [
        "z.conjugate()"
      ]
    },
    {
      "cell_type": "code",
      "execution_count": null,
      "id": "9b18ba78",
      "metadata": {
        "colab": {
          "base_uri": "https://localhost:8080/"
        },
        "id": "9b18ba78",
        "outputId": "e2a81529-3e86-4ee2-e55e-b39ca1de602a"
      },
      "outputs": [
        {
          "output_type": "execute_result",
          "data": {
            "text/plain": [
              "-3.0"
            ]
          },
          "metadata": {},
          "execution_count": 219
        }
      ],
      "source": [
        "z.imag"
      ]
    },
    {
      "cell_type": "markdown",
      "id": "8bc832b0",
      "metadata": {
        "id": "8bc832b0"
      },
      "source": [
        "# String Function"
      ]
    },
    {
      "cell_type": "code",
      "execution_count": null,
      "id": "101c5ffc",
      "metadata": {
        "id": "101c5ffc"
      },
      "outputs": [],
      "source": [
        "name = \"Anupam123\""
      ]
    },
    {
      "cell_type": "code",
      "execution_count": null,
      "id": "c3fb3bf2",
      "metadata": {
        "colab": {
          "base_uri": "https://localhost:8080/"
        },
        "id": "c3fb3bf2",
        "outputId": "5face39a-3f57-45e7-b618-68b4e0576a56"
      },
      "outputs": [
        {
          "output_type": "execute_result",
          "data": {
            "text/plain": [
              "str"
            ]
          },
          "metadata": {},
          "execution_count": 221
        }
      ],
      "source": [
        "type(name)"
      ]
    },
    {
      "cell_type": "code",
      "execution_count": null,
      "id": "be93fe16",
      "metadata": {
        "colab": {
          "base_uri": "https://localhost:8080/"
        },
        "id": "be93fe16",
        "outputId": "a1e3f2ce-c446-4596-8fed-a3dd45caa93b"
      },
      "outputs": [
        {
          "output_type": "execute_result",
          "data": {
            "text/plain": [
              "1"
            ]
          },
          "metadata": {},
          "execution_count": 222
        }
      ],
      "source": [
        "name.count(\"a\")"
      ]
    },
    {
      "cell_type": "code",
      "execution_count": null,
      "id": "37e2e489",
      "metadata": {
        "colab": {
          "base_uri": "https://localhost:8080/"
        },
        "id": "37e2e489",
        "outputId": "01e71421-5098-4e83-a97a-2705a8c9fe71"
      },
      "outputs": [
        {
          "output_type": "execute_result",
          "data": {
            "text/plain": [
              "9"
            ]
          },
          "metadata": {},
          "execution_count": 223
        }
      ],
      "source": [
        "len(name)"
      ]
    },
    {
      "cell_type": "code",
      "execution_count": null,
      "id": "89ffb585",
      "metadata": {
        "colab": {
          "base_uri": "https://localhost:8080/",
          "height": 35
        },
        "id": "89ffb585",
        "outputId": "1197ffd9-dc40-4d06-df49-d3a729186b86"
      },
      "outputs": [
        {
          "output_type": "execute_result",
          "data": {
            "text/plain": [
              "'3'"
            ],
            "application/vnd.google.colaboratory.intrinsic+json": {
              "type": "string"
            }
          },
          "metadata": {},
          "execution_count": 224
        }
      ],
      "source": [
        "name[-1]"
      ]
    },
    {
      "cell_type": "code",
      "execution_count": null,
      "id": "a74349d4",
      "metadata": {
        "colab": {
          "base_uri": "https://localhost:8080/",
          "height": 35
        },
        "id": "a74349d4",
        "outputId": "ddd71272-90c9-4f01-9204-59063c18c210"
      },
      "outputs": [
        {
          "output_type": "execute_result",
          "data": {
            "text/plain": [
              "'upam'"
            ],
            "application/vnd.google.colaboratory.intrinsic+json": {
              "type": "string"
            }
          },
          "metadata": {},
          "execution_count": 225
        }
      ],
      "source": [
        "name[2:6]"
      ]
    },
    {
      "cell_type": "markdown",
      "id": "6bef376c",
      "metadata": {
        "id": "6bef376c"
      },
      "source": [
        "# List"
      ]
    },
    {
      "cell_type": "code",
      "execution_count": null,
      "id": "778a75b0",
      "metadata": {
        "colab": {
          "base_uri": "https://localhost:8080/"
        },
        "id": "778a75b0",
        "outputId": "95885d7b-0f54-463c-c89d-3a70353f8846"
      },
      "outputs": [
        {
          "output_type": "execute_result",
          "data": {
            "text/plain": [
              "list"
            ]
          },
          "metadata": {},
          "execution_count": 226
        }
      ],
      "source": [
        "A = [5,7,8,-3,4,20,15,100]\n",
        "type(A)"
      ]
    },
    {
      "cell_type": "code",
      "execution_count": null,
      "id": "182a9571",
      "metadata": {
        "colab": {
          "base_uri": "https://localhost:8080/"
        },
        "id": "182a9571",
        "outputId": "bf774679-195f-4b00-c38a-c54ae6cc421d"
      },
      "outputs": [
        {
          "output_type": "execute_result",
          "data": {
            "text/plain": [
              "100"
            ]
          },
          "metadata": {},
          "execution_count": 227
        }
      ],
      "source": [
        "A[-1]"
      ]
    },
    {
      "cell_type": "code",
      "execution_count": null,
      "id": "0ff86bd9",
      "metadata": {
        "colab": {
          "base_uri": "https://localhost:8080/"
        },
        "id": "0ff86bd9",
        "outputId": "19e594f8-1a4f-4daa-eeff-d297b577bf38"
      },
      "outputs": [
        {
          "output_type": "execute_result",
          "data": {
            "text/plain": [
              "[8, -3, 4, 20]"
            ]
          },
          "metadata": {},
          "execution_count": 228
        }
      ],
      "source": [
        "A[2:6]"
      ]
    },
    {
      "cell_type": "code",
      "execution_count": null,
      "id": "81c4f44c",
      "metadata": {
        "colab": {
          "base_uri": "https://localhost:8080/"
        },
        "id": "81c4f44c",
        "outputId": "ca79b700-f82a-4eff-8611-29f108ba589f"
      },
      "outputs": [
        {
          "output_type": "execute_result",
          "data": {
            "text/plain": [
              "4"
            ]
          },
          "metadata": {},
          "execution_count": 229
        }
      ],
      "source": [
        "A[4]"
      ]
    },
    {
      "cell_type": "code",
      "execution_count": null,
      "id": "b9b4fa65",
      "metadata": {
        "id": "b9b4fa65"
      },
      "outputs": [],
      "source": [
        "A[3] = 3"
      ]
    },
    {
      "cell_type": "code",
      "execution_count": null,
      "id": "b9fffb8e",
      "metadata": {
        "colab": {
          "base_uri": "https://localhost:8080/"
        },
        "id": "b9fffb8e",
        "outputId": "06e19a20-6d72-46aa-d32c-5cfaffeb21e4"
      },
      "outputs": [
        {
          "output_type": "stream",
          "name": "stdout",
          "text": [
            "[5, 7, 8, 3, 4, 20, 15, 100]\n"
          ]
        }
      ],
      "source": [
        "print(A)"
      ]
    },
    {
      "cell_type": "code",
      "execution_count": null,
      "id": "66356997",
      "metadata": {
        "colab": {
          "base_uri": "https://localhost:8080/"
        },
        "id": "66356997",
        "outputId": "8a6510f9-23a3-49af-8e3e-d46007ad3039"
      },
      "outputs": [
        {
          "output_type": "stream",
          "name": "stdout",
          "text": [
            "[5, 7, 8, 3, 4, 20, 15, 100, 500]\n"
          ]
        }
      ],
      "source": [
        "A.append(500)\n",
        "print(A)"
      ]
    },
    {
      "cell_type": "code",
      "execution_count": null,
      "id": "de91e5ca",
      "metadata": {
        "colab": {
          "base_uri": "https://localhost:8080/"
        },
        "id": "de91e5ca",
        "outputId": "9657a3dd-a9b9-4edd-b5c0-30e47b03297e"
      },
      "outputs": [
        {
          "output_type": "stream",
          "name": "stdout",
          "text": [
            "[3, 4, 5, 7, 8, 15, 20, 100, 500]\n"
          ]
        }
      ],
      "source": [
        "A.sort()\n",
        "print(A)"
      ]
    },
    {
      "cell_type": "code",
      "execution_count": null,
      "id": "0515bd89",
      "metadata": {
        "id": "0515bd89"
      },
      "outputs": [],
      "source": [
        "A.reverse()"
      ]
    },
    {
      "cell_type": "code",
      "execution_count": null,
      "id": "9dbe0409",
      "metadata": {
        "colab": {
          "base_uri": "https://localhost:8080/"
        },
        "id": "9dbe0409",
        "outputId": "6605a15e-ebc7-47b1-9e02-072a8f0942b4"
      },
      "outputs": [
        {
          "output_type": "stream",
          "name": "stdout",
          "text": [
            "[500, 100, 20, 15, 8, 7, 5, 4, 3]\n"
          ]
        }
      ],
      "source": [
        "print(A)"
      ]
    },
    {
      "cell_type": "code",
      "execution_count": null,
      "id": "bda37000",
      "metadata": {
        "colab": {
          "base_uri": "https://localhost:8080/"
        },
        "id": "bda37000",
        "outputId": "831dc79a-bbaa-42bb-c108-51c39d3c6408"
      },
      "outputs": [
        {
          "output_type": "execute_result",
          "data": {
            "text/plain": [
              "1"
            ]
          },
          "metadata": {},
          "execution_count": 236
        }
      ],
      "source": [
        "A.count(500)"
      ]
    },
    {
      "cell_type": "code",
      "execution_count": null,
      "id": "1ceb250d",
      "metadata": {
        "colab": {
          "base_uri": "https://localhost:8080/"
        },
        "id": "1ceb250d",
        "outputId": "ace1e45e-a316-4b32-a833-faf44a405474"
      },
      "outputs": [
        {
          "output_type": "stream",
          "name": "stdout",
          "text": [
            "[500, 100, 20, 15, 8, 7, 5, 4, 3]\n"
          ]
        }
      ],
      "source": [
        "B = A.copy()\n",
        "print(B)"
      ]
    },
    {
      "cell_type": "code",
      "execution_count": null,
      "id": "1e32745b",
      "metadata": {
        "colab": {
          "base_uri": "https://localhost:8080/"
        },
        "id": "1e32745b",
        "outputId": "f59cc364-aee7-4b58-b13c-e4c5bdca588f"
      },
      "outputs": [
        {
          "output_type": "stream",
          "name": "stdout",
          "text": [
            "[500, 100, 20, 15, 8, 7, 5, 4, 3, '5']\n"
          ]
        }
      ],
      "source": [
        "A.extend(\"5\")\n",
        "print(A)"
      ]
    },
    {
      "cell_type": "code",
      "execution_count": null,
      "id": "3234db3c",
      "metadata": {
        "colab": {
          "base_uri": "https://localhost:8080/"
        },
        "id": "3234db3c",
        "outputId": "66cf823f-a81e-45f1-f71a-1e5c5b3e9ffe"
      },
      "outputs": [
        {
          "output_type": "execute_result",
          "data": {
            "text/plain": [
              "7"
            ]
          },
          "metadata": {},
          "execution_count": 239
        }
      ],
      "source": [
        "A.pop(5) #it's Take Indexing of the list"
      ]
    },
    {
      "cell_type": "code",
      "execution_count": null,
      "id": "e7a36352",
      "metadata": {
        "colab": {
          "base_uri": "https://localhost:8080/"
        },
        "id": "e7a36352",
        "outputId": "fa946ab8-0248-48df-cb38-e63367217843"
      },
      "outputs": [
        {
          "output_type": "stream",
          "name": "stdout",
          "text": [
            "[500, 100, 20, 15, 8, 5, 4, 3, '5']\n"
          ]
        }
      ],
      "source": [
        "print(A)"
      ]
    },
    {
      "cell_type": "code",
      "execution_count": null,
      "id": "1d11b423",
      "metadata": {
        "id": "1d11b423"
      },
      "outputs": [],
      "source": [
        "A.remove('5')"
      ]
    },
    {
      "cell_type": "code",
      "execution_count": null,
      "id": "0f3f5fe3",
      "metadata": {
        "colab": {
          "base_uri": "https://localhost:8080/"
        },
        "id": "0f3f5fe3",
        "outputId": "6719f351-5305-49bf-8eaf-a873011c299e"
      },
      "outputs": [
        {
          "output_type": "stream",
          "name": "stdout",
          "text": [
            "[500, 100, 20, 15, 8, 5, 4, 3]\n"
          ]
        }
      ],
      "source": [
        "print(A)"
      ]
    },
    {
      "cell_type": "code",
      "execution_count": null,
      "id": "f00dc11d",
      "metadata": {
        "id": "f00dc11d"
      },
      "outputs": [],
      "source": [
        "#A.remove('0')"
      ]
    },
    {
      "cell_type": "code",
      "execution_count": null,
      "id": "56a64b63",
      "metadata": {
        "colab": {
          "base_uri": "https://localhost:8080/"
        },
        "id": "56a64b63",
        "outputId": "4e4ac143-822f-4d5b-e06c-882761db8630"
      },
      "outputs": [
        {
          "output_type": "stream",
          "name": "stdout",
          "text": [
            "[500, 100, 20, 15, 8, 5, 4, 3]\n"
          ]
        }
      ],
      "source": [
        "print(A)"
      ]
    },
    {
      "cell_type": "code",
      "execution_count": null,
      "id": "4e1cf1e6",
      "metadata": {
        "id": "4e1cf1e6"
      },
      "outputs": [],
      "source": [
        "#A.pop(A.index('5'))"
      ]
    },
    {
      "cell_type": "code",
      "execution_count": null,
      "id": "f5be9f84",
      "metadata": {
        "colab": {
          "base_uri": "https://localhost:8080/"
        },
        "id": "f5be9f84",
        "outputId": "bd7ed225-bd66-47db-a035-efae2247590d"
      },
      "outputs": [
        {
          "output_type": "stream",
          "name": "stdout",
          "text": [
            "M : [1, 5, 8, 7]\n",
            "L : [1, 5, 8, 7]\n"
          ]
        }
      ],
      "source": [
        "L = [1,5,8,7]\n",
        "M = L\n",
        "print(\"M :\",M)\n",
        "print(\"L :\",L)"
      ]
    },
    {
      "cell_type": "code",
      "execution_count": null,
      "id": "407992f8",
      "metadata": {
        "colab": {
          "base_uri": "https://localhost:8080/"
        },
        "id": "407992f8",
        "outputId": "8d81a92a-d987-4183-a9f7-0ebd97c7303c"
      },
      "outputs": [
        {
          "output_type": "stream",
          "name": "stdout",
          "text": [
            "M : [1, 5, -8, 7]\n",
            "L : [1, 5, -8, 7]\n"
          ]
        }
      ],
      "source": [
        "#if L's 3rd element get change...\n",
        "L[2] = -8\n",
        "print(\"M :\",M)\n",
        "print(\"L :\",L)"
      ]
    },
    {
      "cell_type": "code",
      "execution_count": null,
      "id": "380dd921",
      "metadata": {
        "colab": {
          "base_uri": "https://localhost:8080/"
        },
        "id": "380dd921",
        "outputId": "c907a551-0284-4dfc-ef12-cebf824cc343"
      },
      "outputs": [
        {
          "output_type": "stream",
          "name": "stdout",
          "text": [
            "M : [1, 5, -8, 5]\n",
            "L : [1, 5, -8, 5]\n"
          ]
        }
      ],
      "source": [
        "#if M's 4th element get change...\n",
        "M[3] = 5\n",
        "print(\"M :\",M)\n",
        "print(\"L :\",L)"
      ]
    },
    {
      "cell_type": "code",
      "execution_count": null,
      "id": "efdd3ea4",
      "metadata": {
        "id": "efdd3ea4"
      },
      "outputs": [],
      "source": [
        "L.insert?"
      ]
    },
    {
      "cell_type": "code",
      "execution_count": null,
      "id": "83ce2e51",
      "metadata": {
        "id": "83ce2e51"
      },
      "outputs": [],
      "source": [
        "L.insert(2,-5)"
      ]
    },
    {
      "cell_type": "code",
      "execution_count": null,
      "id": "bfd593f9",
      "metadata": {
        "colab": {
          "base_uri": "https://localhost:8080/"
        },
        "id": "bfd593f9",
        "outputId": "b584fb2f-e40a-4a8c-f0d6-5c1edf10a15b"
      },
      "outputs": [
        {
          "output_type": "execute_result",
          "data": {
            "text/plain": [
              "[1, 5, -5, -8, 5]"
            ]
          },
          "metadata": {},
          "execution_count": 251
        }
      ],
      "source": [
        "L"
      ]
    },
    {
      "cell_type": "markdown",
      "id": "e9618314",
      "metadata": {
        "id": "e9618314"
      },
      "source": [
        "# Tuple"
      ]
    },
    {
      "cell_type": "code",
      "execution_count": null,
      "id": "1228ebc2",
      "metadata": {
        "colab": {
          "base_uri": "https://localhost:8080/"
        },
        "id": "1228ebc2",
        "outputId": "080c9354-c0e1-456e-a69e-7b869f2caf54"
      },
      "outputs": [
        {
          "output_type": "execute_result",
          "data": {
            "text/plain": [
              "tuple"
            ]
          },
          "metadata": {},
          "execution_count": 252
        }
      ],
      "source": [
        "T = (7,11,9,13,14)\n",
        "type(T)"
      ]
    },
    {
      "cell_type": "code",
      "execution_count": null,
      "id": "e47fed60",
      "metadata": {
        "id": "e47fed60"
      },
      "outputs": [],
      "source": [
        "#T[3]= -5\n",
        "# Tupels are immutable data type\n",
        "#'tuple' object does not support item assignment\n"
      ]
    },
    {
      "cell_type": "markdown",
      "id": "e37dc199",
      "metadata": {
        "id": "e37dc199"
      },
      "source": [
        "# Dictionary"
      ]
    },
    {
      "cell_type": "code",
      "execution_count": null,
      "id": "9974fe0c",
      "metadata": {
        "colab": {
          "base_uri": "https://localhost:8080/"
        },
        "id": "9974fe0c",
        "outputId": "633917fa-506e-41e9-c068-bda7d37ce003"
      },
      "outputs": [
        {
          "output_type": "execute_result",
          "data": {
            "text/plain": [
              "dict"
            ]
          },
          "metadata": {},
          "execution_count": 254
        }
      ],
      "source": [
        "d = {}\n",
        "type(d)"
      ]
    },
    {
      "cell_type": "code",
      "execution_count": null,
      "id": "1ad7ec6b",
      "metadata": {
        "colab": {
          "base_uri": "https://localhost:8080/"
        },
        "id": "1ad7ec6b",
        "outputId": "ad59ed13-c7b9-4992-c8ac-9d3dd3f36512"
      },
      "outputs": [
        {
          "output_type": "stream",
          "name": "stdout",
          "text": [
            "{'name': 'Doreamon'}\n"
          ]
        }
      ],
      "source": [
        "d[\"name\"] = \"Doreamon\"\n",
        "print(d)"
      ]
    },
    {
      "cell_type": "code",
      "execution_count": null,
      "id": "ae37baea",
      "metadata": {
        "colab": {
          "base_uri": "https://localhost:8080/"
        },
        "id": "ae37baea",
        "outputId": "13abb84e-a5a4-4bdf-8b5d-43afaa50a907"
      },
      "outputs": [
        {
          "output_type": "stream",
          "name": "stdout",
          "text": [
            "{'name': 'Doreamon', 'roll': '23MAT200'}\n"
          ]
        }
      ],
      "source": [
        "d[\"roll\"] = \"23MAT200\"\n",
        "print(d)"
      ]
    },
    {
      "cell_type": "code",
      "execution_count": null,
      "id": "1bc990b6",
      "metadata": {
        "colab": {
          "base_uri": "https://localhost:8080/"
        },
        "id": "1bc990b6",
        "outputId": "adbc222c-debd-49f2-cfa3-1bbd92d4840e"
      },
      "outputs": [
        {
          "output_type": "stream",
          "name": "stdout",
          "text": [
            "{'name': 'Doreamon', 'roll': '23MAT200', 'DOB': '29/02/2004'}\n"
          ]
        }
      ],
      "source": [
        "d[\"DOB\"] = \"29/02/2004\"\n",
        "print(d)"
      ]
    },
    {
      "cell_type": "code",
      "execution_count": null,
      "id": "961a22f2",
      "metadata": {
        "colab": {
          "base_uri": "https://localhost:8080/"
        },
        "id": "961a22f2",
        "outputId": "b7f2f4f1-f3e4-40de-cde8-180125cfe9f4"
      },
      "outputs": [
        {
          "output_type": "stream",
          "name": "stdout",
          "text": [
            "{'name': 'Doreamon', 'roll': '23MAT200', 'DOB': '29/02/2004', 'Gadgets': ['Any Where Door', 'Big light', 'Bamboo Coptor']}\n"
          ]
        }
      ],
      "source": [
        "d[\"Gadgets\"] = [\"Any Where Door\",\"Big light\",\"Bamboo Coptor\"]\n",
        "print(d)"
      ]
    },
    {
      "cell_type": "code",
      "execution_count": null,
      "id": "3dfdde72",
      "metadata": {
        "colab": {
          "base_uri": "https://localhost:8080/"
        },
        "id": "3dfdde72",
        "outputId": "2080d998-fbee-4b7f-a900-92dbed365740"
      },
      "outputs": [
        {
          "output_type": "stream",
          "name": "stdout",
          "text": [
            "dict_keys(['name', 'roll', 'DOB', 'Gadgets'])\n"
          ]
        }
      ],
      "source": [
        "print(d.keys()) #return keys of the dictionary"
      ]
    },
    {
      "cell_type": "code",
      "execution_count": null,
      "id": "c8ad650a",
      "metadata": {
        "colab": {
          "base_uri": "https://localhost:8080/"
        },
        "id": "c8ad650a",
        "outputId": "8f2bac60-9c98-49a3-fcb9-36401d2a7d2f"
      },
      "outputs": [
        {
          "output_type": "stream",
          "name": "stdout",
          "text": [
            "dict_values(['Doreamon', '23MAT200', '29/02/2004', ['Any Where Door', 'Big light', 'Bamboo Coptor']])\n"
          ]
        }
      ],
      "source": [
        "print(d.values()) #return values of the dictionary"
      ]
    },
    {
      "cell_type": "code",
      "execution_count": null,
      "id": "b94bbf4c",
      "metadata": {
        "colab": {
          "base_uri": "https://localhost:8080/"
        },
        "id": "b94bbf4c",
        "outputId": "77cafdd7-b5a8-4033-8fa0-077283edca39"
      },
      "outputs": [
        {
          "output_type": "execute_result",
          "data": {
            "text/plain": [
              "dict_items([('name', 'Doreamon'), ('roll', '23MAT200'), ('DOB', '29/02/2004'), ('Gadgets', ['Any Where Door', 'Big light', 'Bamboo Coptor'])])"
            ]
          },
          "metadata": {},
          "execution_count": 261
        }
      ],
      "source": [
        "d.items() #return items of the dictionary in the form of pair of (key , value)"
      ]
    },
    {
      "cell_type": "code",
      "execution_count": null,
      "id": "1a5a3faf",
      "metadata": {
        "id": "1a5a3faf"
      },
      "outputs": [],
      "source": []
    }
  ],
  "metadata": {
    "kernelspec": {
      "display_name": "Python 3 (ipykernel)",
      "language": "python",
      "name": "python3"
    },
    "language_info": {
      "codemirror_mode": {
        "name": "ipython",
        "version": 3
      },
      "file_extension": ".py",
      "mimetype": "text/x-python",
      "name": "python",
      "nbconvert_exporter": "python",
      "pygments_lexer": "ipython3",
      "version": "3.10.6"
    },
    "colab": {
      "provenance": [],
      "include_colab_link": true
    }
  },
  "nbformat": 4,
  "nbformat_minor": 5
}